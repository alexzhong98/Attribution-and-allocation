{
 "cells": [
  {
   "cell_type": "code",
   "execution_count": 12,
   "id": "27c7b5e4",
   "metadata": {},
   "outputs": [],
   "source": [
    "import numpy as np\n",
    "import pandas as pd\n",
    "import matplotlib.pyplot as plt\n",
    "import ast\n",
    "import warnings\n",
    "\n",
    "warnings.filterwarnings('ignore')\n",
    "%matplotlib inline"
   ]
  },
  {
   "cell_type": "code",
   "execution_count": 13,
   "id": "0f4f3d77",
   "metadata": {},
   "outputs": [
    {
     "data": {
      "text/html": [
       "<div>\n",
       "<style scoped>\n",
       "    .dataframe tbody tr th:only-of-type {\n",
       "        vertical-align: middle;\n",
       "    }\n",
       "\n",
       "    .dataframe tbody tr th {\n",
       "        vertical-align: top;\n",
       "    }\n",
       "\n",
       "    .dataframe thead th {\n",
       "        text-align: right;\n",
       "    }\n",
       "</style>\n",
       "<table border=\"1\" class=\"dataframe\">\n",
       "  <thead>\n",
       "    <tr style=\"text-align: right;\">\n",
       "      <th></th>\n",
       "      <th>tier</th>\n",
       "      <th>channel</th>\n",
       "    </tr>\n",
       "  </thead>\n",
       "  <tbody>\n",
       "    <tr>\n",
       "      <th>1</th>\n",
       "      <td>tier1</td>\n",
       "      <td>{'email': 1000.0, 'social': 1000.0000000000001...</td>\n",
       "    </tr>\n",
       "    <tr>\n",
       "      <th>2</th>\n",
       "      <td>tier2</td>\n",
       "      <td>{'email': 2000.0, 'social': 2000.0, 'display':...</td>\n",
       "    </tr>\n",
       "    <tr>\n",
       "      <th>3</th>\n",
       "      <td>tier3</td>\n",
       "      <td>{'email': 3000.0, 'social': 3000.0, 'display':...</td>\n",
       "    </tr>\n",
       "  </tbody>\n",
       "</table>\n",
       "</div>"
      ],
      "text/plain": [
       "    tier                                            channel\n",
       "1  tier1  {'email': 1000.0, 'social': 1000.0000000000001...\n",
       "2  tier2  {'email': 2000.0, 'social': 2000.0, 'display':...\n",
       "3  tier3  {'email': 3000.0, 'social': 3000.0, 'display':..."
      ]
     },
     "execution_count": 13,
     "metadata": {},
     "output_type": "execute_result"
    }
   ],
   "source": [
    "cnl_spd = pd.read_csv('channel_spend_student_data.csv', names=['tier', 'channel']).dropna()\n",
    "cnl_spd"
   ]
  },
  {
   "cell_type": "code",
   "execution_count": 14,
   "id": "49c845f3",
   "metadata": {
    "scrolled": false
   },
   "outputs": [
    {
     "data": {
      "text/html": [
       "<div>\n",
       "<style scoped>\n",
       "    .dataframe tbody tr th:only-of-type {\n",
       "        vertical-align: middle;\n",
       "    }\n",
       "\n",
       "    .dataframe tbody tr th {\n",
       "        vertical-align: top;\n",
       "    }\n",
       "\n",
       "    .dataframe thead th {\n",
       "        text-align: right;\n",
       "    }\n",
       "</style>\n",
       "<table border=\"1\" class=\"dataframe\">\n",
       "  <thead>\n",
       "    <tr style=\"text-align: right;\">\n",
       "      <th></th>\n",
       "      <th>convert_TF</th>\n",
       "      <th>touch1</th>\n",
       "      <th>touch2</th>\n",
       "      <th>touch3</th>\n",
       "      <th>touch4</th>\n",
       "      <th>touch5</th>\n",
       "      <th>tier</th>\n",
       "    </tr>\n",
       "  </thead>\n",
       "  <tbody>\n",
       "    <tr>\n",
       "      <th>0</th>\n",
       "      <td>True</td>\n",
       "      <td>referral</td>\n",
       "      <td>referral</td>\n",
       "      <td>referral</td>\n",
       "      <td>email</td>\n",
       "      <td>NaN</td>\n",
       "      <td>1</td>\n",
       "    </tr>\n",
       "    <tr>\n",
       "      <th>1</th>\n",
       "      <td>True</td>\n",
       "      <td>referral</td>\n",
       "      <td>display</td>\n",
       "      <td>display</td>\n",
       "      <td>email</td>\n",
       "      <td>NaN</td>\n",
       "      <td>1</td>\n",
       "    </tr>\n",
       "    <tr>\n",
       "      <th>2</th>\n",
       "      <td>True</td>\n",
       "      <td>email</td>\n",
       "      <td>display</td>\n",
       "      <td>referral</td>\n",
       "      <td>NaN</td>\n",
       "      <td>NaN</td>\n",
       "      <td>1</td>\n",
       "    </tr>\n",
       "    <tr>\n",
       "      <th>3</th>\n",
       "      <td>True</td>\n",
       "      <td>referral</td>\n",
       "      <td>referral</td>\n",
       "      <td>email</td>\n",
       "      <td>NaN</td>\n",
       "      <td>NaN</td>\n",
       "      <td>1</td>\n",
       "    </tr>\n",
       "    <tr>\n",
       "      <th>4</th>\n",
       "      <td>True</td>\n",
       "      <td>social</td>\n",
       "      <td>referral</td>\n",
       "      <td>NaN</td>\n",
       "      <td>NaN</td>\n",
       "      <td>NaN</td>\n",
       "      <td>1</td>\n",
       "    </tr>\n",
       "    <tr>\n",
       "      <th>...</th>\n",
       "      <td>...</td>\n",
       "      <td>...</td>\n",
       "      <td>...</td>\n",
       "      <td>...</td>\n",
       "      <td>...</td>\n",
       "      <td>...</td>\n",
       "      <td>...</td>\n",
       "    </tr>\n",
       "    <tr>\n",
       "      <th>60648</th>\n",
       "      <td>True</td>\n",
       "      <td>referral</td>\n",
       "      <td>referral</td>\n",
       "      <td>referral</td>\n",
       "      <td>NaN</td>\n",
       "      <td>NaN</td>\n",
       "      <td>3</td>\n",
       "    </tr>\n",
       "    <tr>\n",
       "      <th>60649</th>\n",
       "      <td>True</td>\n",
       "      <td>display</td>\n",
       "      <td>referral</td>\n",
       "      <td>NaN</td>\n",
       "      <td>NaN</td>\n",
       "      <td>NaN</td>\n",
       "      <td>3</td>\n",
       "    </tr>\n",
       "    <tr>\n",
       "      <th>68103</th>\n",
       "      <td>True</td>\n",
       "      <td>organic_search</td>\n",
       "      <td>referral</td>\n",
       "      <td>paid_search</td>\n",
       "      <td>NaN</td>\n",
       "      <td>NaN</td>\n",
       "      <td>3</td>\n",
       "    </tr>\n",
       "    <tr>\n",
       "      <th>68104</th>\n",
       "      <td>True</td>\n",
       "      <td>organic_search</td>\n",
       "      <td>display</td>\n",
       "      <td>NaN</td>\n",
       "      <td>NaN</td>\n",
       "      <td>NaN</td>\n",
       "      <td>3</td>\n",
       "    </tr>\n",
       "    <tr>\n",
       "      <th>68117</th>\n",
       "      <td>True</td>\n",
       "      <td>direct</td>\n",
       "      <td>NaN</td>\n",
       "      <td>NaN</td>\n",
       "      <td>NaN</td>\n",
       "      <td>NaN</td>\n",
       "      <td>3</td>\n",
       "    </tr>\n",
       "  </tbody>\n",
       "</table>\n",
       "<p>13779 rows × 7 columns</p>\n",
       "</div>"
      ],
      "text/plain": [
       "       convert_TF          touch1    touch2       touch3 touch4 touch5  tier\n",
       "0            True        referral  referral     referral  email    NaN     1\n",
       "1            True        referral   display      display  email    NaN     1\n",
       "2            True           email   display     referral    NaN    NaN     1\n",
       "3            True        referral  referral        email    NaN    NaN     1\n",
       "4            True          social  referral          NaN    NaN    NaN     1\n",
       "...           ...             ...       ...          ...    ...    ...   ...\n",
       "60648        True        referral  referral     referral    NaN    NaN     3\n",
       "60649        True         display  referral          NaN    NaN    NaN     3\n",
       "68103        True  organic_search  referral  paid_search    NaN    NaN     3\n",
       "68104        True  organic_search   display          NaN    NaN    NaN     3\n",
       "68117        True          direct       NaN          NaN    NaN    NaN     3\n",
       "\n",
       "[13779 rows x 7 columns]"
      ]
     },
     "execution_count": 14,
     "metadata": {},
     "output_type": "execute_result"
    }
   ],
   "source": [
    "att_alloc = pd.read_csv('attribution_allocation_student_data.csv')\n",
    "att_alloc = att_alloc[att_alloc.convert_TF == True]\n",
    "att_alloc"
   ]
  },
  {
   "cell_type": "markdown",
   "id": "7c04744b",
   "metadata": {},
   "source": [
    "# 3 Methods for Allocation\n"
   ]
  },
  {
   "cell_type": "markdown",
   "id": "a1b7d000",
   "metadata": {},
   "source": [
    "## First Interaction, Last Interaction, Linear"
   ]
  },
  {
   "cell_type": "code",
   "execution_count": 15,
   "id": "c2a8f350",
   "metadata": {},
   "outputs": [
    {
     "data": {
      "text/html": [
       "<div>\n",
       "<style scoped>\n",
       "    .dataframe tbody tr th:only-of-type {\n",
       "        vertical-align: middle;\n",
       "    }\n",
       "\n",
       "    .dataframe tbody tr th {\n",
       "        vertical-align: top;\n",
       "    }\n",
       "\n",
       "    .dataframe thead th {\n",
       "        text-align: right;\n",
       "    }\n",
       "</style>\n",
       "<table border=\"1\" class=\"dataframe\">\n",
       "  <thead>\n",
       "    <tr style=\"text-align: right;\">\n",
       "      <th></th>\n",
       "      <th>convert_TF</th>\n",
       "      <th>touch1</th>\n",
       "      <th>touch2</th>\n",
       "      <th>touch3</th>\n",
       "      <th>touch4</th>\n",
       "      <th>touch5</th>\n",
       "      <th>tier</th>\n",
       "      <th>spend</th>\n",
       "    </tr>\n",
       "  </thead>\n",
       "  <tbody>\n",
       "    <tr>\n",
       "      <th>0</th>\n",
       "      <td>True</td>\n",
       "      <td>referral</td>\n",
       "      <td>referral</td>\n",
       "      <td>referral</td>\n",
       "      <td>email</td>\n",
       "      <td>NaN</td>\n",
       "      <td>1</td>\n",
       "      <td>5000</td>\n",
       "    </tr>\n",
       "    <tr>\n",
       "      <th>1</th>\n",
       "      <td>True</td>\n",
       "      <td>referral</td>\n",
       "      <td>display</td>\n",
       "      <td>display</td>\n",
       "      <td>email</td>\n",
       "      <td>NaN</td>\n",
       "      <td>1</td>\n",
       "      <td>5000</td>\n",
       "    </tr>\n",
       "    <tr>\n",
       "      <th>2</th>\n",
       "      <td>True</td>\n",
       "      <td>email</td>\n",
       "      <td>display</td>\n",
       "      <td>referral</td>\n",
       "      <td>NaN</td>\n",
       "      <td>NaN</td>\n",
       "      <td>1</td>\n",
       "      <td>5000</td>\n",
       "    </tr>\n",
       "    <tr>\n",
       "      <th>3</th>\n",
       "      <td>True</td>\n",
       "      <td>referral</td>\n",
       "      <td>referral</td>\n",
       "      <td>email</td>\n",
       "      <td>NaN</td>\n",
       "      <td>NaN</td>\n",
       "      <td>1</td>\n",
       "      <td>5000</td>\n",
       "    </tr>\n",
       "    <tr>\n",
       "      <th>4</th>\n",
       "      <td>True</td>\n",
       "      <td>social</td>\n",
       "      <td>referral</td>\n",
       "      <td>NaN</td>\n",
       "      <td>NaN</td>\n",
       "      <td>NaN</td>\n",
       "      <td>1</td>\n",
       "      <td>5000</td>\n",
       "    </tr>\n",
       "    <tr>\n",
       "      <th>...</th>\n",
       "      <td>...</td>\n",
       "      <td>...</td>\n",
       "      <td>...</td>\n",
       "      <td>...</td>\n",
       "      <td>...</td>\n",
       "      <td>...</td>\n",
       "      <td>...</td>\n",
       "      <td>...</td>\n",
       "    </tr>\n",
       "    <tr>\n",
       "      <th>60648</th>\n",
       "      <td>True</td>\n",
       "      <td>referral</td>\n",
       "      <td>referral</td>\n",
       "      <td>referral</td>\n",
       "      <td>NaN</td>\n",
       "      <td>NaN</td>\n",
       "      <td>3</td>\n",
       "      <td>15000</td>\n",
       "    </tr>\n",
       "    <tr>\n",
       "      <th>60649</th>\n",
       "      <td>True</td>\n",
       "      <td>display</td>\n",
       "      <td>referral</td>\n",
       "      <td>NaN</td>\n",
       "      <td>NaN</td>\n",
       "      <td>NaN</td>\n",
       "      <td>3</td>\n",
       "      <td>15000</td>\n",
       "    </tr>\n",
       "    <tr>\n",
       "      <th>68103</th>\n",
       "      <td>True</td>\n",
       "      <td>organic_search</td>\n",
       "      <td>referral</td>\n",
       "      <td>paid_search</td>\n",
       "      <td>NaN</td>\n",
       "      <td>NaN</td>\n",
       "      <td>3</td>\n",
       "      <td>15000</td>\n",
       "    </tr>\n",
       "    <tr>\n",
       "      <th>68104</th>\n",
       "      <td>True</td>\n",
       "      <td>organic_search</td>\n",
       "      <td>display</td>\n",
       "      <td>NaN</td>\n",
       "      <td>NaN</td>\n",
       "      <td>NaN</td>\n",
       "      <td>3</td>\n",
       "      <td>15000</td>\n",
       "    </tr>\n",
       "    <tr>\n",
       "      <th>68117</th>\n",
       "      <td>True</td>\n",
       "      <td>direct</td>\n",
       "      <td>NaN</td>\n",
       "      <td>NaN</td>\n",
       "      <td>NaN</td>\n",
       "      <td>NaN</td>\n",
       "      <td>3</td>\n",
       "      <td>15000</td>\n",
       "    </tr>\n",
       "  </tbody>\n",
       "</table>\n",
       "<p>13779 rows × 8 columns</p>\n",
       "</div>"
      ],
      "text/plain": [
       "       convert_TF          touch1    touch2       touch3 touch4 touch5  tier  \\\n",
       "0            True        referral  referral     referral  email    NaN     1   \n",
       "1            True        referral   display      display  email    NaN     1   \n",
       "2            True           email   display     referral    NaN    NaN     1   \n",
       "3            True        referral  referral        email    NaN    NaN     1   \n",
       "4            True          social  referral          NaN    NaN    NaN     1   \n",
       "...           ...             ...       ...          ...    ...    ...   ...   \n",
       "60648        True        referral  referral     referral    NaN    NaN     3   \n",
       "60649        True         display  referral          NaN    NaN    NaN     3   \n",
       "68103        True  organic_search  referral  paid_search    NaN    NaN     3   \n",
       "68104        True  organic_search   display          NaN    NaN    NaN     3   \n",
       "68117        True          direct       NaN          NaN    NaN    NaN     3   \n",
       "\n",
       "       spend  \n",
       "0       5000  \n",
       "1       5000  \n",
       "2       5000  \n",
       "3       5000  \n",
       "4       5000  \n",
       "...      ...  \n",
       "60648  15000  \n",
       "60649  15000  \n",
       "68103  15000  \n",
       "68104  15000  \n",
       "68117  15000  \n",
       "\n",
       "[13779 rows x 8 columns]"
      ]
     },
     "execution_count": 15,
     "metadata": {},
     "output_type": "execute_result"
    }
   ],
   "source": [
    "spend_dict = {1: 5000, 2: 10000, 3: 15000}\n",
    "att_alloc['spend'] = att_alloc.tier.map(spend_dict)\n",
    "att_alloc"
   ]
  },
  {
   "cell_type": "code",
   "execution_count": 16,
   "id": "aacfe620",
   "metadata": {},
   "outputs": [],
   "source": [
    "num_conversion = att_alloc.shape[0]"
   ]
  },
  {
   "cell_type": "code",
   "execution_count": 17,
   "id": "deb806cf",
   "metadata": {},
   "outputs": [],
   "source": [
    "first_int = att_alloc.groupby(['touch1'])['convert_TF'].sum()/num_conversion\n",
    "\n",
    "filled_att = att_alloc.T.ffill().T\n",
    "last_int = filled_att.groupby(['touch5'])['convert_TF'].sum()/num_conversion"
   ]
  },
  {
   "cell_type": "code",
   "execution_count": 18,
   "id": "711c9f98",
   "metadata": {},
   "outputs": [
    {
     "data": {
      "text/plain": [
       "touch1\n",
       "direct            0.000435\n",
       "display           0.147398\n",
       "email             0.093185\n",
       "organic_search    0.001089\n",
       "paid_search       0.048480\n",
       "referral          0.543944\n",
       "social            0.165469\n",
       "Name: convert_TF, dtype: float64"
      ]
     },
     "execution_count": 18,
     "metadata": {},
     "output_type": "execute_result"
    }
   ],
   "source": [
    "first_int"
   ]
  },
  {
   "cell_type": "code",
   "execution_count": 19,
   "id": "3dac9138",
   "metadata": {
    "scrolled": true
   },
   "outputs": [
    {
     "data": {
      "text/plain": [
       "touch5\n",
       "direct            0.000508\n",
       "display            0.16634\n",
       "email             0.108208\n",
       "organic_search    0.000798\n",
       "paid_search       0.072865\n",
       "referral          0.436461\n",
       "social             0.21482\n",
       "Name: convert_TF, dtype: object"
      ]
     },
     "execution_count": 19,
     "metadata": {},
     "output_type": "execute_result"
    }
   ],
   "source": [
    "last_int"
   ]
  },
  {
   "cell_type": "code",
   "execution_count": 20,
   "id": "47e97a0d",
   "metadata": {
    "scrolled": true
   },
   "outputs": [
    {
     "data": {
      "text/plain": [
       "direct            0.000537\n",
       "display           0.145835\n",
       "email             0.092539\n",
       "organic_search    0.001172\n",
       "paid_search       0.051155\n",
       "referral          0.541682\n",
       "social            0.167079\n",
       "dtype: float64"
      ]
     },
     "execution_count": 20,
     "metadata": {},
     "output_type": "execute_result"
    }
   ],
   "source": [
    "linear_int = att_alloc.iloc[:, 1:6].T \\\n",
    "    .apply(pd.Series.value_counts, args = (True, True, False, None, True)) \\\n",
    "    .sum(axis=1)/num_conversion\n",
    "linear_int"
   ]
  },
  {
   "cell_type": "code",
   "execution_count": 21,
   "id": "ead45c01",
   "metadata": {},
   "outputs": [
    {
     "data": {
      "text/html": [
       "<div>\n",
       "<style scoped>\n",
       "    .dataframe tbody tr th:only-of-type {\n",
       "        vertical-align: middle;\n",
       "    }\n",
       "\n",
       "    .dataframe tbody tr th {\n",
       "        vertical-align: top;\n",
       "    }\n",
       "\n",
       "    .dataframe thead th {\n",
       "        text-align: right;\n",
       "    }\n",
       "</style>\n",
       "<table border=\"1\" class=\"dataframe\">\n",
       "  <thead>\n",
       "    <tr style=\"text-align: right;\">\n",
       "      <th></th>\n",
       "      <th>first</th>\n",
       "      <th>last</th>\n",
       "      <th>linear</th>\n",
       "    </tr>\n",
       "  </thead>\n",
       "  <tbody>\n",
       "    <tr>\n",
       "      <th>direct</th>\n",
       "      <td>0.000435</td>\n",
       "      <td>0.000508</td>\n",
       "      <td>0.000537</td>\n",
       "    </tr>\n",
       "    <tr>\n",
       "      <th>display</th>\n",
       "      <td>0.147398</td>\n",
       "      <td>0.16634</td>\n",
       "      <td>0.145835</td>\n",
       "    </tr>\n",
       "    <tr>\n",
       "      <th>email</th>\n",
       "      <td>0.093185</td>\n",
       "      <td>0.108208</td>\n",
       "      <td>0.092539</td>\n",
       "    </tr>\n",
       "    <tr>\n",
       "      <th>organic_search</th>\n",
       "      <td>0.001089</td>\n",
       "      <td>0.000798</td>\n",
       "      <td>0.001172</td>\n",
       "    </tr>\n",
       "    <tr>\n",
       "      <th>paid_search</th>\n",
       "      <td>0.048480</td>\n",
       "      <td>0.072865</td>\n",
       "      <td>0.051155</td>\n",
       "    </tr>\n",
       "    <tr>\n",
       "      <th>referral</th>\n",
       "      <td>0.543944</td>\n",
       "      <td>0.436461</td>\n",
       "      <td>0.541682</td>\n",
       "    </tr>\n",
       "    <tr>\n",
       "      <th>social</th>\n",
       "      <td>0.165469</td>\n",
       "      <td>0.21482</td>\n",
       "      <td>0.167079</td>\n",
       "    </tr>\n",
       "  </tbody>\n",
       "</table>\n",
       "</div>"
      ],
      "text/plain": [
       "                   first      last    linear\n",
       "direct          0.000435  0.000508  0.000537\n",
       "display         0.147398   0.16634  0.145835\n",
       "email           0.093185  0.108208  0.092539\n",
       "organic_search  0.001089  0.000798  0.001172\n",
       "paid_search     0.048480  0.072865  0.051155\n",
       "referral        0.543944  0.436461  0.541682\n",
       "social          0.165469   0.21482  0.167079"
      ]
     },
     "execution_count": 21,
     "metadata": {},
     "output_type": "execute_result"
    }
   ],
   "source": [
    "total_int = pd.concat([first_int, last_int, linear_int], axis=1)\n",
    "total_int.columns = ['first', 'last', 'linear']\n",
    "total_int"
   ]
  },
  {
   "cell_type": "code",
   "execution_count": 22,
   "id": "22b36ad0",
   "metadata": {},
   "outputs": [
    {
     "data": {
      "text/plain": [
       "Text(0.5, 1.0, 'Conversion rate')"
      ]
     },
     "execution_count": 22,
     "metadata": {},
     "output_type": "execute_result"
    },
    {
     "data": {
      "image/png": "[encoded data removed]",
      "text/plain": [
       "<Figure size 432x288 with 1 Axes>"
      ]
     },
     "metadata": {
      "needs_background": "light"
     },
     "output_type": "display_data"
    }
   ],
   "source": [
    "total_int.plot.bar()\n",
    "plt.title('Conversion rate')"
   ]
  },
  {
   "cell_type": "markdown",
   "id": "40df8ff8",
   "metadata": {},
   "source": [
    "## Average CAC"
   ]
  },
  {
   "cell_type": "code",
   "execution_count": 23,
   "id": "896161ce",
   "metadata": {},
   "outputs": [],
   "source": [
    "tier1 = ast.literal_eval(cnl_spd.iloc[0, 1])\n",
    "tier2 = ast.literal_eval(cnl_spd.iloc[1, 1])\n",
    "tier3 = ast.literal_eval(cnl_spd.iloc[2, 1])"
   ]
  },
  {
   "cell_type": "code",
   "execution_count": 24,
   "id": "c8522154",
   "metadata": {},
   "outputs": [
    {
     "data": {
      "text/plain": [
       "email             6000.0\n",
       "social            6000.0\n",
       "display           6000.0\n",
       "paid_search       6000.0\n",
       "referral          6000.0\n",
       "organic_search       0.0\n",
       "direct               0.0\n",
       "dtype: float64"
      ]
     },
     "execution_count": 24,
     "metadata": {},
     "output_type": "execute_result"
    }
   ],
   "source": [
    "tier1_cost = pd.DataFrame(tier1.values(), index=tier1.keys(), columns=['cost'])\n",
    "tier2_cost = pd.DataFrame(tier2.values(), index=tier2.keys(), columns=['cost'])\n",
    "tier3_cost = pd.DataFrame(tier3.values(), index=tier3.keys(), columns=['cost'])\n",
    "\n",
    "cost = pd.concat([tier1_cost, tier2_cost, tier3_cost], axis=1).sum(axis=1)\n",
    "cost"
   ]
  },
  {
   "cell_type": "code",
   "execution_count": 25,
   "id": "1a92ae9e",
   "metadata": {},
   "outputs": [
    {
     "data": {
      "text/html": [
       "<div>\n",
       "<style scoped>\n",
       "    .dataframe tbody tr th:only-of-type {\n",
       "        vertical-align: middle;\n",
       "    }\n",
       "\n",
       "    .dataframe tbody tr th {\n",
       "        vertical-align: top;\n",
       "    }\n",
       "\n",
       "    .dataframe thead th {\n",
       "        text-align: right;\n",
       "    }\n",
       "</style>\n",
       "<table border=\"1\" class=\"dataframe\">\n",
       "  <thead>\n",
       "    <tr style=\"text-align: right;\">\n",
       "      <th></th>\n",
       "      <th>first</th>\n",
       "      <th>last</th>\n",
       "      <th>linear</th>\n",
       "    </tr>\n",
       "  </thead>\n",
       "  <tbody>\n",
       "    <tr>\n",
       "      <th>direct</th>\n",
       "      <td>0.000000</td>\n",
       "      <td>0</td>\n",
       "      <td>0.000000</td>\n",
       "    </tr>\n",
       "    <tr>\n",
       "      <th>display</th>\n",
       "      <td>2.954210</td>\n",
       "      <td>2.617801</td>\n",
       "      <td>2.985867</td>\n",
       "    </tr>\n",
       "    <tr>\n",
       "      <th>email</th>\n",
       "      <td>4.672897</td>\n",
       "      <td>4.024145</td>\n",
       "      <td>4.705513</td>\n",
       "    </tr>\n",
       "    <tr>\n",
       "      <th>organic_search</th>\n",
       "      <td>0.000000</td>\n",
       "      <td>0</td>\n",
       "      <td>0.000000</td>\n",
       "    </tr>\n",
       "    <tr>\n",
       "      <th>paid_search</th>\n",
       "      <td>8.982036</td>\n",
       "      <td>5.976096</td>\n",
       "      <td>8.512248</td>\n",
       "    </tr>\n",
       "    <tr>\n",
       "      <th>referral</th>\n",
       "      <td>0.800534</td>\n",
       "      <td>0.997672</td>\n",
       "      <td>0.803876</td>\n",
       "    </tr>\n",
       "    <tr>\n",
       "      <th>social</th>\n",
       "      <td>2.631579</td>\n",
       "      <td>2.027027</td>\n",
       "      <td>2.606222</td>\n",
       "    </tr>\n",
       "  </tbody>\n",
       "</table>\n",
       "</div>"
      ],
      "text/plain": [
       "                   first      last    linear\n",
       "direct          0.000000         0  0.000000\n",
       "display         2.954210  2.617801  2.985867\n",
       "email           4.672897  4.024145  4.705513\n",
       "organic_search  0.000000         0  0.000000\n",
       "paid_search     8.982036  5.976096  8.512248\n",
       "referral        0.800534  0.997672  0.803876\n",
       "social          2.631579  2.027027  2.606222"
      ]
     },
     "execution_count": 25,
     "metadata": {},
     "output_type": "execute_result"
    }
   ],
   "source": [
    "CAC = 6000/(total_int * num_conversion)\n",
    "CAC.loc['direct', :], CAC.loc['organic_search', :] = 0, 0\n",
    "\n",
    "CAC"
   ]
  },
  {
   "cell_type": "code",
   "execution_count": 26,
   "id": "a7643037",
   "metadata": {},
   "outputs": [
    {
     "data": {
      "text/plain": [
       "Text(0.5, 1.0, 'CAC for each Channel')"
      ]
     },
     "execution_count": 26,
     "metadata": {},
     "output_type": "execute_result"
    },
    {
     "data": {
      "image/png": "[encoded data removed]",
      "text/plain": [
       "<Figure size 432x288 with 1 Axes>"
      ]
     },
     "metadata": {
      "needs_background": "light"
     },
     "output_type": "display_data"
    }
   ],
   "source": [
    "CAC.plot.bar()\n",
    "plt.title('CAC for each Channel')"
   ]
  },
  {
   "cell_type": "markdown",
   "id": "9d72a894",
   "metadata": {},
   "source": [
    "# I choose LINEAR to calculate marginal CAC\n",
    "## To calculate, we need to investigate how CAC change w.r.t tiers (1, 2, 3)"
   ]
  },
  {
   "cell_type": "code",
   "execution_count": 27,
   "id": "a8138586",
   "metadata": {
    "scrolled": true
   },
   "outputs": [],
   "source": [
    "att1 = att_alloc[att_alloc['tier'] == 1]\n",
    "att2 = att_alloc[att_alloc['tier'] == 2]\n",
    "att3 = att_alloc[att_alloc['tier'] == 3]\n"
   ]
  },
  {
   "cell_type": "code",
   "execution_count": 28,
   "id": "428b47a3",
   "metadata": {},
   "outputs": [
    {
     "data": {
      "text/html": [
       "<div>\n",
       "<style scoped>\n",
       "    .dataframe tbody tr th:only-of-type {\n",
       "        vertical-align: middle;\n",
       "    }\n",
       "\n",
       "    .dataframe tbody tr th {\n",
       "        vertical-align: top;\n",
       "    }\n",
       "\n",
       "    .dataframe thead th {\n",
       "        text-align: right;\n",
       "    }\n",
       "</style>\n",
       "<table border=\"1\" class=\"dataframe\">\n",
       "  <thead>\n",
       "    <tr style=\"text-align: right;\">\n",
       "      <th></th>\n",
       "      <th>tier1</th>\n",
       "      <th>tier2</th>\n",
       "      <th>tier3</th>\n",
       "    </tr>\n",
       "  </thead>\n",
       "  <tbody>\n",
       "    <tr>\n",
       "      <th>direct</th>\n",
       "      <td>1.916667</td>\n",
       "      <td>2.066667</td>\n",
       "      <td>3.416667</td>\n",
       "    </tr>\n",
       "    <tr>\n",
       "      <th>display</th>\n",
       "      <td>439.266667</td>\n",
       "      <td>724.083333</td>\n",
       "      <td>846.116667</td>\n",
       "    </tr>\n",
       "    <tr>\n",
       "      <th>email</th>\n",
       "      <td>251.133333</td>\n",
       "      <td>442.516667</td>\n",
       "      <td>581.450000</td>\n",
       "    </tr>\n",
       "    <tr>\n",
       "      <th>organic_search</th>\n",
       "      <td>1.950000</td>\n",
       "      <td>6.466667</td>\n",
       "      <td>7.733333</td>\n",
       "    </tr>\n",
       "    <tr>\n",
       "      <th>paid_search</th>\n",
       "      <td>128.050000</td>\n",
       "      <td>237.816667</td>\n",
       "      <td>339.000000</td>\n",
       "    </tr>\n",
       "    <tr>\n",
       "      <th>referral</th>\n",
       "      <td>1517.100000</td>\n",
       "      <td>2656.683333</td>\n",
       "      <td>3290.050000</td>\n",
       "    </tr>\n",
       "    <tr>\n",
       "      <th>social</th>\n",
       "      <td>484.583333</td>\n",
       "      <td>822.366667</td>\n",
       "      <td>995.233333</td>\n",
       "    </tr>\n",
       "  </tbody>\n",
       "</table>\n",
       "</div>"
      ],
      "text/plain": [
       "                      tier1        tier2        tier3\n",
       "direct             1.916667     2.066667     3.416667\n",
       "display          439.266667   724.083333   846.116667\n",
       "email            251.133333   442.516667   581.450000\n",
       "organic_search     1.950000     6.466667     7.733333\n",
       "paid_search      128.050000   237.816667   339.000000\n",
       "referral        1517.100000  2656.683333  3290.050000\n",
       "social           484.583333   822.366667   995.233333"
      ]
     },
     "execution_count": 28,
     "metadata": {},
     "output_type": "execute_result"
    }
   ],
   "source": [
    "conv1 = att1.iloc[:, 1:6].T \\\n",
    "    .apply(pd.Series.value_counts, args = (True, True, False, None, True)) \\\n",
    "    .sum(axis=1)\n",
    "conv2 = att2.iloc[:, 1:6].T \\\n",
    "    .apply(pd.Series.value_counts, args = (True, True, False, None, True)) \\\n",
    "    .sum(axis=1)\n",
    "conv3 = att3.iloc[:, 1:6].T \\\n",
    "    .apply(pd.Series.value_counts, args = (True, True, False, None, True)) \\\n",
    "    .sum(axis=1)\n",
    "\n",
    "conv_by_tier = pd.concat([conv1, conv2, conv3], axis=1)\n",
    "conv_by_tier.columns = ['tier1', 'tier2', 'tier3']\n",
    "conv_by_tier"
   ]
  },
  {
   "cell_type": "code",
   "execution_count": 29,
   "id": "43ac81c8",
   "metadata": {},
   "outputs": [
    {
     "data": {
      "text/html": [
       "<div>\n",
       "<style scoped>\n",
       "    .dataframe tbody tr th:only-of-type {\n",
       "        vertical-align: middle;\n",
       "    }\n",
       "\n",
       "    .dataframe tbody tr th {\n",
       "        vertical-align: top;\n",
       "    }\n",
       "\n",
       "    .dataframe thead th {\n",
       "        text-align: right;\n",
       "    }\n",
       "</style>\n",
       "<table border=\"1\" class=\"dataframe\">\n",
       "  <thead>\n",
       "    <tr style=\"text-align: right;\">\n",
       "      <th></th>\n",
       "      <th>tier1</th>\n",
       "      <th>tier2</th>\n",
       "      <th>tier3</th>\n",
       "    </tr>\n",
       "  </thead>\n",
       "  <tbody>\n",
       "    <tr>\n",
       "      <th>direct</th>\n",
       "      <td>0.000000</td>\n",
       "      <td>0.000000</td>\n",
       "      <td>0.000000</td>\n",
       "    </tr>\n",
       "    <tr>\n",
       "      <th>display</th>\n",
       "      <td>2.276521</td>\n",
       "      <td>3.511030</td>\n",
       "      <td>8.194482</td>\n",
       "    </tr>\n",
       "    <tr>\n",
       "      <th>email</th>\n",
       "      <td>3.981949</td>\n",
       "      <td>5.225115</td>\n",
       "      <td>7.197697</td>\n",
       "    </tr>\n",
       "    <tr>\n",
       "      <th>organic_search</th>\n",
       "      <td>0.000000</td>\n",
       "      <td>0.000000</td>\n",
       "      <td>0.000000</td>\n",
       "    </tr>\n",
       "    <tr>\n",
       "      <th>paid_search</th>\n",
       "      <td>7.809449</td>\n",
       "      <td>9.110234</td>\n",
       "      <td>9.883051</td>\n",
       "    </tr>\n",
       "    <tr>\n",
       "      <th>referral</th>\n",
       "      <td>0.659152</td>\n",
       "      <td>0.877514</td>\n",
       "      <td>1.578864</td>\n",
       "    </tr>\n",
       "    <tr>\n",
       "      <th>social</th>\n",
       "      <td>2.063629</td>\n",
       "      <td>2.960478</td>\n",
       "      <td>5.784805</td>\n",
       "    </tr>\n",
       "  </tbody>\n",
       "</table>\n",
       "</div>"
      ],
      "text/plain": [
       "                   tier1     tier2     tier3\n",
       "direct          0.000000  0.000000  0.000000\n",
       "display         2.276521  3.511030  8.194482\n",
       "email           3.981949  5.225115  7.197697\n",
       "organic_search  0.000000  0.000000  0.000000\n",
       "paid_search     7.809449  9.110234  9.883051\n",
       "referral        0.659152  0.877514  1.578864\n",
       "social          2.063629  2.960478  5.784805"
      ]
     },
     "execution_count": 29,
     "metadata": {},
     "output_type": "execute_result"
    }
   ],
   "source": [
    "CAC_marginal = pd.DataFrame()\n",
    "CAC_marginal['tier1'] = 1000/conv_by_tier['tier1']\n",
    "CAC_marginal['tier2'] = 1000/(conv_by_tier['tier2'] - conv_by_tier['tier1'])\n",
    "CAC_marginal['tier3'] = 1000/(conv_by_tier['tier3'] - conv_by_tier['tier2'])\n",
    "\n",
    "CAC_marginal.loc['direct', :] = 0\n",
    "CAC_marginal.loc['organic_search', :] = 0\n",
    "\n",
    "CAC_marginal"
   ]
  },
  {
   "cell_type": "code",
   "execution_count": 31,
   "id": "dbef3c3c",
   "metadata": {},
   "outputs": [
    {
     "data": {
      "text/plain": [
       "Text(0.5, 1.0, 'Marginal CAC for each tier')"
      ]
     },
     "execution_count": 31,
     "metadata": {},
     "output_type": "execute_result"
    },
    {
     "data": {
      "image/png": "[encoded data removed]",
      "text/plain": [
       "<Figure size 432x288 with 1 Axes>"
      ]
     },
     "metadata": {
      "needs_background": "light"
     },
     "output_type": "display_data"
    }
   ],
   "source": [
    "CAC_marginal.plot.bar()\n",
    "plt.title('Marginal CAC for each tier')"
   ]
  },
  {
   "cell_type": "code",
   "execution_count": null,
   "id": "225b4ea9",
   "metadata": {},
   "outputs": [],
   "source": []
  }
 ],
 "metadata": {
  "kernelspec": {
   "display_name": "Python 3 (ipykernel)",
   "language": "python",
   "name": "python3"
  },
  "language_info": {
   "codemirror_mode": {
    "name": "ipython",
    "version": 3
   },
   "file_extension": ".py",
   "mimetype": "text/x-python",
   "name": "python",
   "nbconvert_exporter": "python",
   "pygments_lexer": "ipython3",
   "version": "3.9.12"
  }
 },
 "nbformat": 4,
 "nbformat_minor": 5
}
